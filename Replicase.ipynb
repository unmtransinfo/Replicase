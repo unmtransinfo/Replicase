{
  "nbformat": 4,
  "nbformat_minor": 0,
  "metadata": {
    "colab": {
      "provenance": [],
      "authorship_tag": "ABX9TyMGhxF8fjY2KxDxN6/hxjWp",
      "include_colab_link": true
    },
    "kernelspec": {
      "name": "python3",
      "display_name": "Python 3"
    },
    "language_info": {
      "name": "python"
    }
  },
  "cells": [
    {
      "cell_type": "markdown",
      "metadata": {
        "id": "view-in-github",
        "colab_type": "text"
      },
      "source": [
        "<a href=\"https://colab.research.google.com/github/unmtransinfo/Replicase/blob/master/Replicase.ipynb\" target=\"_parent\"><img src=\"https://colab.research.google.com/assets/colab-badge.svg\" alt=\"Open In Colab\"/></a>"
      ]
    },
    {
      "cell_type": "code",
      "source": [
        "!pip install chembl_webresource_client\n",
        "!pip install molvs rdkit"
      ],
      "metadata": {
        "id": "iAlxziSDJGnI",
        "collapsed": true
      },
      "execution_count": null,
      "outputs": []
    },
    {
      "cell_type": "code",
      "execution_count": null,
      "metadata": {
        "id": "gUAi0k9BxBoV",
        "collapsed": true
      },
      "outputs": [],
      "source": [
        "# Mounting the Google Drive\n",
        "\n",
        "import os, sys\n",
        "from google.colab import drive\n",
        "\n",
        "drive.mount('/content/drive', force_remount = True)\n",
        "sys.path.insert(0, '/content/drive/My Drive/Replicase/')\n",
        "\n",
        "# defining the file path\n",
        "data_filepath = \"/content/drive/My Drive/Replicase/data/\"\n",
        "python_dir_path = \"/content/drive/MyDrive/Replicase/python-files/\""
      ]
    },
    {
      "cell_type": "code",
      "source": [
        "sys.path.insert(1, python_dir_path)"
      ],
      "metadata": {
        "id": "GQvINvMCxoIg"
      },
      "execution_count": null,
      "outputs": []
    },
    {
      "cell_type": "code",
      "source": [
        "PRE_PROCESSED_REPLICASE_DATA_FILE = \"replicase_data_preprocessed.csv\"\n",
        "PRE_PROCESSED_3CLPRO_DATA_FILE = \"3cl-pro_data_preprocessed.csv\"\n",
        "STD_REPLICASE_DATA_FILE = \"Replicase_stand_smi_data.csv\"\n",
        "STD_3CLPRO_DATA_FILE = \"3cl-pro_stand_smi_data.csv\"\n",
        "\n",
        "# If this code is run on local computer, change the path to match your dir path\n",
        "pre_process_replicase_data_path = data_filepath + PRE_PROCESSED_REPLICASE_DATA_FILE\n",
        "pre_process_3clpro_data_path = data_filepath + PRE_PROCESSED_3CLPRO_DATA_FILE\n",
        "std_replicase_data_path = data_filepath + STD_REPLICASE_DATA_FILE\n",
        "std_3clpro_data_path = data_filepath + STD_3CLPRO_DATA_FILE"
      ],
      "metadata": {
        "id": "sZeWqEQny1tc"
      },
      "execution_count": null,
      "outputs": []
    },
    {
      "cell_type": "code",
      "source": [
        "# Other imports\n",
        "import tempfile\n",
        "\n",
        "import pandas as pd\n",
        "import numpy as np\n",
        "import molvs\n",
        "\n",
        "from sklearn.impute import SimpleImputer\n",
        "\n",
        "from rdkit import Chem\n",
        "from rdkit.Chem import MACCSkeys\n",
        "from rdkit.Chem import AllChem\n",
        "from rdkit.Chem import PandasTools\n",
        "from rdkit.Chem import Draw\n",
        "from rdkit.Chem import MolStandardize\n",
        "from rdkit.Chem.MolStandardize import rdMolStandardize\n",
        "from rdkit.Chem import MACCSkeys\n",
        "from rdkit.Chem import rdMolDescriptors\n",
        "from rdkit.Chem import Descriptors\n",
        "from rdkit.ML.Descriptors import MoleculeDescriptors\n",
        "from tqdm import tqdm\n",
        "from rdkit.Chem.Draw import IPythonConsole\n",
        "IPythonConsole.drawOptions.comicMode=True\n",
        "import rdkit\n",
        "\n",
        "print(rdkit.__version__)"
      ],
      "metadata": {
        "id": "yD5QmTmh5dfu"
      },
      "execution_count": null,
      "outputs": []
    },
    {
      "cell_type": "code",
      "source": [
        "# Importing python files to use internal functions\n",
        "# These files are for data preprocessing and preparation.\n",
        "\n",
        "from preprocess import main\n",
        "from standardization_process import standard_preprocess"
      ],
      "metadata": {
        "id": "k7LvBXSPn8zi"
      },
      "execution_count": null,
      "outputs": []
    },
    {
      "cell_type": "code",
      "source": [
        "# Check if pre processed files are present\n",
        "'''\n",
        " Only std_replicase_data and std_3clpro_data are required after this code block\n",
        " If standard data already exists, assign the variables directly\n",
        "'''\n",
        "\n",
        "if not os.path.exists(pre_process_replicase_data_path) or not os.path.exists(pre_process_3clpro_data_path):\n",
        "  pre_replicase_data, pre_3clpro_data = main()\n",
        "\n",
        "  pre_replicase_data.to_csv(pre_process_replicase_data_path)\n",
        "  pre_3clpro_data.to_csv(pre_process_3clpro_data_path)\n",
        "\n",
        "if not os.path.exists(std_replicase_data_path):\n",
        "  pre_replicase_data = pd.read_csv(pre_process_replicase_data_path)\n",
        "  std_replicase_data = standard_preprocess(pre_replicase_data)\n",
        "  std_replicase_data.to_csv(std_replicase_data_path)\n",
        "else:\n",
        "  std_replicase_data = pd.read_csv(std_replicase_data_path)\n",
        "\n",
        "if not os.path.exists(std_3clpro_data_path):\n",
        "  pre_3clpro_data = pd.read_csv(pre_process_3clpro_data_path)\n",
        "  std_3clpro_data = standard_preprocess(pre_3clpro_data)\n",
        "  std_3clpro_data.to_csv(std_3clpro_data_path)\n",
        "else:\n",
        "  std_3clpro_data = pd.read_csv(std_3clpro_data_path)\n"
      ],
      "metadata": {
        "id": "nf32hOlS2WRS"
      },
      "execution_count": null,
      "outputs": []
    },
    {
      "cell_type": "code",
      "source": [
        "std_replicase_data.head(5)\n",
        "# std_3clpro_data.head(5)"
      ],
      "metadata": {
        "id": "ENPfBIVg9Nr7"
      },
      "execution_count": null,
      "outputs": []
    },
    {
      "cell_type": "code",
      "source": [
        "STANDARDIZED_SMILES = \"standardized_smiles\"\n",
        "BIOACTIVITY_CLASS = \"bioactivity_class\"\n",
        "PCHEMBL_VALUE = \"pchembl_value\"\n",
        "CANONICAL_SMILES = \"canonical_smiles\"\n",
        "MOLECULE_CHEMBL_ID = \"molecule_chembl_id\"\n",
        "STANDARDIZED_MOLECULE = \"standardized_molecule\""
      ],
      "metadata": {
        "id": "qAeAA8dlIPSP"
      },
      "execution_count": null,
      "outputs": []
    },
    {
      "cell_type": "code",
      "source": [
        "REPLICASE_SDF_FILE = \"replicase_temp.sdf\"\n",
        "_3CLPRO_SDF_FILE = \"3clpro_temp.sdf\""
      ],
      "metadata": {
        "id": "8OwN1w3njRHs"
      },
      "execution_count": null,
      "outputs": []
    },
    {
      "cell_type": "code",
      "source": [
        "# Feature Generation\n",
        "\n",
        "# Generate standardized molecules from standardized smiles\n",
        "def generate_std_molecule(std_smiles):\n",
        "  std_mols = []\n",
        "  std_smiles = std_smiles.tolist()\n",
        "\n",
        "  for smi in std_smiles:\n",
        "    std_mol = Chem.MolFromSmiles(smi)\n",
        "    std_mols.append(std_mol)\n",
        "\n",
        "  return pd.DataFrame(std_mols)\n",
        "  # df[STANDARDIZED_MOLECULE] = pd.DataFrame(std_mols)\n",
        "\n",
        "# Generate Maccs keys from standardized molecule chemical fingerprints for substructure search\n",
        "def generate_MACCSfpts(std_mols):\n",
        "    maccs_fpts = []\n",
        "\n",
        "    for mol in tqdm(std_mols):\n",
        "        mkeyfpts = MACCSkeys.GenMACCSKeys(mol)\n",
        "        maccs_fpts.append(mkeyfpts)\n",
        "\n",
        "    return np.array(maccs_fpts)\n",
        "\n",
        "# Generate path based fingerprints - rdkfingerprints, Daylight-like from standardized molecule\n",
        "def generate_RDKfpts(std_mols):\n",
        "    RDK_fpts = []\n",
        "\n",
        "    for mol in tqdm(std_mols):\n",
        "        rdkfpts = AllChem.RDKFingerprint(mol, maxPath=5, fpSize=2048, nBitsPerHash=2 )\n",
        "        RDK_fpts.append(rdkfpts)\n",
        "\n",
        "    return np.array(RDK_fpts)\n",
        "\n",
        "# Generate toplogical fingerprints - atom pair from standardized molecule\n",
        "def generate_APfpts(std_mols):\n",
        "    AP_fpts = []\n",
        "\n",
        "    for mol in tqdm(std_mols):\n",
        "        apfpts = rdMolDescriptors.GetHashedAtomPairFingerprintAsBitVect(mol, nBits=2048)\n",
        "        AP_fpts.append(apfpts)\n",
        "\n",
        "    return np.array(AP_fpts)\n",
        "\n",
        "# Generate toplogical fingerprints - topological torsion from standardized molecule\n",
        "def generate_TTfpts(std_mols):\n",
        "    TT_fpts = []\n",
        "\n",
        "    for mol in tqdm(std_mols):\n",
        "        ttfpts = rdMolDescriptors.GetHashedTopologicalTorsionFingerprintAsBitVect(mol, nBits=2048)\n",
        "        TT_fpts.append(ttfpts)\n",
        "\n",
        "    return np.array(TT_fpts)\n",
        "\n",
        "# Generate extended connectivity finger prints -  FINGERPRINTS from standardized molecule\n",
        "def generate_Morganfpts(std_mols, radius):\n",
        "    MORGAN_fpts = []\n",
        "\n",
        "    for mol in tqdm(std_mols):\n",
        "        morganfpts = AllChem.GetMorganFingerprintAsBitVect(mol,radius, nBits=2048)\n",
        "        MORGAN_fpts.append(morganfpts)\n",
        "\n",
        "    return np.array(MORGAN_fpts)\n",
        "\n",
        "# Generate extended connectivity finger prints - FEATURE CONNECTIVITY FINGERPRINTS from standardized molecule\n",
        "def generate_Featurefpts(std_mols, radius):\n",
        "    FEATURE_fpts = []\n",
        "    for mol in tqdm(std_mols):\n",
        "        featurefpts = AllChem.GetMorganFingerprintAsBitVect(mol,radius, useFeatures=True, nBits=2048)\n",
        "        FEATURE_fpts.append(featurefpts)\n",
        "    return np.array(FEATURE_fpts)"
      ],
      "metadata": {
        "id": "maKtSXycHzaY"
      },
      "execution_count": null,
      "outputs": []
    },
    {
      "cell_type": "code",
      "source": [
        "# Calculate the RDKit descriptors from standardized smiles\n",
        "def RDKit_descriptors(smiles):\n",
        "    mols = [Chem.MolFromSmiles(i) for i in smiles]\n",
        "    calc = MoleculeDescriptors.MolecularDescriptorCalculator([x[0] for x in Descriptors._descList])\n",
        "    desc_names = calc.GetDescriptorNames()\n",
        "    mol_descriptors = []\n",
        "\n",
        "    for mol in mols:\n",
        "        mol = Chem.AddHs(mol)\n",
        "        descriptors = calc.CalcDescriptors(mol)\n",
        "        mol_descriptors.append(descriptors)\n",
        "\n",
        "    return mol_descriptors, desc_names\n",
        "\n",
        "# Apply mean imputation to rows with missing values\n",
        "# def apply_mean(df):\n",
        "#   mean_imputer = SimpleImputer(strategy='mean')\n",
        "#   return mean_imputer.fit_transform(df)\n",
        "mean_imputer = SimpleImputer(strategy='mean')"
      ],
      "metadata": {
        "id": "uR36YNa_wzmV"
      },
      "execution_count": null,
      "outputs": []
    },
    {
      "cell_type": "code",
      "source": [
        "# Convert the standardized smiles to an sdf file and generate file path\n",
        "def toSDF(smiles_list, filename = \"temp.sdf\"):\n",
        "    # temp_dir = tempfile.mkdtemp(dir = \".\")\n",
        "    w = Chem.SDWriter(filename)\n",
        "\n",
        "    for smiles in smiles_list:\n",
        "      mol = Chem.MolFromSmiles(smiles)\n",
        "      if mol is not None:\n",
        "          AllChem.Compute2DCoords(mol)\n",
        "          w.write(mol)\n",
        "\n",
        "    w.close()\n",
        "\n",
        "    sdf_path = filename\n",
        "    return sdf_path"
      ],
      "metadata": {
        "id": "PfrOoYN06At9"
      },
      "execution_count": null,
      "outputs": []
    },
    {
      "cell_type": "code",
      "source": [
        "## Generate all fingerprints/properties for replicase\n",
        "\n",
        "std_replicase_data[STANDARDIZED_MOLECULE] = generate_std_molecule(std_replicase_data[STANDARDIZED_SMILES])\n",
        "replicase_std_mols = std_replicase_data[STANDARDIZED_MOLECULE]\n",
        "\n",
        "# Generate MACCS keys\n",
        "replicase_macc_keys = generate_MACCSfpts(replicase_std_mols)\n",
        "replicase_macc_keys = pd.DataFrame(replicase_macc_keys, columns=['Maccs_{}'.format(i + 1)\n",
        "                                  for i in range(replicase_macc_keys.shape[1])])\n",
        "\n",
        "# Generate RDK fingerprints\n",
        "replicase_rdk_fpts = generate_RDKfpts(replicase_std_mols)\n",
        "replicase_rdk_fpts = pd.DataFrame(replicase_rdk_fpts, columns = ['RDK_{}'.format(i + 1) for i in range(replicase_rdk_fpts.shape[1])])\n",
        "\n",
        "# Generate Atom Pair fingerprints\n",
        "replicase_ap_fpts = generate_APfpts(replicase_std_mols)\n",
        "replicase_ap_fpts = pd.DataFrame(replicase_ap_fpts, columns = [\"AP_{}\".format(i + 1) for i in range(replicase_ap_fpts.shape[1])])\n",
        "\n",
        "# Generate Topological torsion fingerprints\n",
        "replicase_tt_fpts = generate_TTfpts(replicase_std_mols)\n",
        "replicase_tt_fpts = pd.DataFrame(replicase_tt_fpts, columns = [\"TT_{}\".format(i + 1) for i in range(replicase_tt_fpts.shape[1])])\n",
        "\n",
        "# Generate Morgan fingerprints\n",
        "replicase_morgan_fpts = generate_Morganfpts(replicase_std_mols, 2)\n",
        "replicase_morgan_fpts = pd.DataFrame(replicase_morgan_fpts, columns = [\"Morgan_{}\".format(i + 1) for i in range(replicase_morgan_fpts.shape[1])])\n",
        "\n",
        "# Generate Feature connectivity fingerprints\n",
        "replicase_fc_fpts = generate_Featurefpts(replicase_std_mols, 2)\n",
        "replicase_fc_fpts = pd.DataFrame(replicase_fc_fpts, columns = [\"FC_{}\".format(i) for i in range(replicase_fc_fpts.shape[1])])\n",
        "\n",
        "# Generate RDK descriptors\n",
        "descriptors, desc_names = RDKit_descriptors(std_replicase_data[STANDARDIZED_SMILES])\n",
        "replicase_descriptors = pd.DataFrame(descriptors, columns=desc_names)\n",
        "\n",
        "columns = replicase_descriptors.columns\n",
        "replicase_descriptors = pd.DataFrame(mean_imputer.fit_transform(replicase_descriptors))\n",
        "replicase_descriptors.columns = columns\n",
        "\n",
        "# Saving standardized smiles to SDF file\n",
        "replicase_sdf_path = toSDF(std_replicase_data[STANDARDIZED_SMILES], REPLICASE_SDF_FILE)\n",
        "replicase_sdf_path"
      ],
      "metadata": {
        "id": "BzXAwE376kxg"
      },
      "execution_count": null,
      "outputs": []
    },
    {
      "cell_type": "code",
      "source": [
        "## Generate all fingerprints/properties for 3clpro\n",
        "\n",
        "std_3clpro_data[STANDARDIZED_MOLECULE] = generate_std_molecule(std_3clpro_data[STANDARDIZED_SMILES])\n",
        "_3clpro_std_mols = std_3clpro_data[STANDARDIZED_MOLECULE]\n",
        "\n",
        "# Generate MACCS keys\n",
        "_3clpro_macc_keys = generate_MACCSfpts(_3clpro_std_mols)\n",
        "_3clpro_macc_keys = pd.DataFrame(_3clpro_macc_keys, columns=['Maccs_{}'.format(i + 1)\n",
        "                                  for i in range(_3clpro_macc_keys.shape[1])])\n",
        "\n",
        "# Generate RDK fingerprints\n",
        "_3clpro_rdk_fpts = generate_RDKfpts(_3clpro_std_mols)\n",
        "_3clpro_rdk_fpts = pd.DataFrame(_3clpro_rdk_fpts, columns = ['RDK_{}'.format(i + 1) for i in range(_3clpro_rdk_fpts.shape[1])])\n",
        "\n",
        "# Generate Atom Pair fingerprints\n",
        "_3clpro_ap_fpts = generate_APfpts(_3clpro_std_mols)\n",
        "_3clpro_ap_fpts = pd.DataFrame(_3clpro_ap_fpts, columns = [\"AP_{}\".format(i + 1) for i in range(_3clpro_ap_fpts.shape[1])])\n",
        "\n",
        "# Generate Topological torsion fingerprints\n",
        "_3clpro_tt_fpts = generate_TTfpts(_3clpro_std_mols)\n",
        "_3clpro_tt_fpts = pd.DataFrame(_3clpro_tt_fpts, columns = [\"TT_{}\".format(i + 1) for i in range(_3clpro_tt_fpts.shape[1])])\n",
        "\n",
        "# Generate Morgan fingerprints\n",
        "_3clpro_morgan_fpts = generate_Morganfpts(_3clpro_std_mols, 2)\n",
        "_3clpro_morgan_fpts = pd.DataFrame(_3clpro_morgan_fpts, columns = [\"Morgan_{}\".format(i + 1) for i in range(_3clpro_morgan_fpts.shape[1])])\n",
        "\n",
        "# Generate Feature connectivity fingerprints\n",
        "_3clpro_fc_fpts = generate_Featurefpts(_3clpro_std_mols, 2)\n",
        "_3clpro_fc_fpts = pd.DataFrame(_3clpro_fc_fpts, columns = [\"FC_{}\".format(i) for i in range(_3clpro_fc_fpts.shape[1])])\n",
        "\n",
        "# Generate RDK descriptors\n",
        "descriptors, desc_names = RDKit_descriptors(std_3clpro_data[STANDARDIZED_SMILES])\n",
        "_3clpro_descriptors = pd.DataFrame(descriptors, columns=desc_names)\n",
        "\n",
        "_3cl_columns = _3clpro_descriptors.columns\n",
        "_3clpro_descriptors = pd.DataFrame(mean_imputer.transform(_3clpro_descriptors))\n",
        "_3clpro_descriptors.columns = _3cl_columns\n",
        "\n",
        "# Saving standardized smiles to SDF file\n",
        "_3clpro_sdf_path = toSDF(std_3clpro_data[STANDARDIZED_SMILES], _3CLPRO_SDF_FILE)\n",
        "_3clpro_sdf_path"
      ],
      "metadata": {
        "id": "lJv4Q8mOPylj"
      },
      "execution_count": null,
      "outputs": []
    },
    {
      "cell_type": "code",
      "source": [
        "# Download and extract mayachemtools\n",
        "!rm mayachemtools.zip\n",
        "\n",
        "!wget http://www.mayachemtools.org/download/mayachemtools.zip\n",
        "# !tar -xvjf mayachemtools.tar.bz2\n",
        "!unzip -o mayachemtools.zip\n"
      ],
      "metadata": {
        "id": "wh3rTGsFw_xc"
      },
      "execution_count": null,
      "outputs": []
    },
    {
      "cell_type": "code",
      "source": [
        "!perl mayachemtools/bin/TopologicalPharmacophoreAtomTripletsFingerprints.pl --AtomTripletsSetSizeToUse FixedSize -v ValuesString -o $REPLICASE_SDF_FILE -r replicase_tpatf\n",
        "!perl mayachemtools/bin/TopologicalPharmacophoreAtomTripletsFingerprints.pl --AtomTripletsSetSizeToUse FixedSize -v ValuesString -o $_3CLPRO_SDF_FILE -r 3clpro_tpatf"
      ],
      "metadata": {
        "id": "7BA5lNY0dZdP"
      },
      "execution_count": null,
      "outputs": []
    },
    {
      "cell_type": "code",
      "source": [
        "# Extract fingerprints into array from CSV\n",
        "def extract_features(filepath):\n",
        "  with open(filepath, 'r') as f:\n",
        "    all_features = []\n",
        "\n",
        "    for line in f.readlines():\n",
        "        if \"Cmpd\" in line:\n",
        "            line = line.split(';')[5].replace('\"', '')\n",
        "            features = [int(i) for i in line.split(\" \")]\n",
        "            all_features.append(features)\n",
        "\n",
        "    return all_features\n",
        "\n",
        "replicase_features_array = np.array(extract_features(\"replicase_tpatf.csv\"))\n",
        "replicase_tpatf = pd.DataFrame(replicase_features_array, columns = [\"tpatf_{}\".format(i + 1) for i in range(replicase_features_array.shape[1])])\n",
        "\n",
        "_3clpro_features_array = np.array(extract_features(\"3clpro_tpatf.csv\"))\n",
        "_3clpro_tpatf = pd.DataFrame(_3clpro_features_array, columns = [\"tpatf_{}\".format(i + 1) for i in range(_3clpro_features_array.shape[1])])"
      ],
      "metadata": {
        "id": "D5AnF8NilYVf"
      },
      "execution_count": null,
      "outputs": []
    }
  ]
}